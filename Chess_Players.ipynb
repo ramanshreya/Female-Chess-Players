{
 "cells": [
  {
   "cell_type": "markdown",
   "id": "1c9a9901",
   "metadata": {},
   "source": [
    "# Analysing Data On Female Chess Players in India\n",
    "\n",
    "For long, chess has been a male dominated sport. For this project, I am analysing the data from International Chess Federation (FIDE) to look at female representation in the sport. I downloaded the data from [here](https://ratings.fide.com/download.phtml)"
   ]
  },
  {
   "cell_type": "code",
   "execution_count": 1,
   "id": "ae0aeaed",
   "metadata": {},
   "outputs": [],
   "source": [
    "import pandas as pd"
   ]
  },
  {
   "cell_type": "code",
   "execution_count": 2,
   "id": "974e8cc9",
   "metadata": {},
   "outputs": [],
   "source": [
    "pd.set_option('display.max_colwidth', None)"
   ]
  },
  {
   "cell_type": "markdown",
   "id": "04965b10",
   "metadata": {},
   "source": [
    "*The dataset that I downloaded from FIDE has data on 1.1 million players. In another notebook, I filtered out the data for Indian players to avoid slowing this notebook down. First opening this dataset on Indian players and saving it as a dataframe.*"
   ]
  },
  {
   "cell_type": "code",
   "execution_count": 3,
   "id": "6e356d1e",
   "metadata": {},
   "outputs": [],
   "source": [
    "df=pd.read_xml(\"Indian Players.xml\")"
   ]
  },
  {
   "cell_type": "code",
   "execution_count": 4,
   "id": "17193f59",
   "metadata": {},
   "outputs": [
    {
     "data": {
      "text/plain": [
       "(108631, 19)"
      ]
     },
     "execution_count": 4,
     "metadata": {},
     "output_type": "execute_result"
    }
   ],
   "source": [
    "df.shape"
   ]
  },
  {
   "cell_type": "code",
   "execution_count": 5,
   "id": "ec92841d",
   "metadata": {},
   "outputs": [
    {
     "data": {
      "text/plain": [
       "fideid            int64\n",
       "name             object\n",
       "country          object\n",
       "sex              object\n",
       "title            object\n",
       "w_title          object\n",
       "o_title          object\n",
       "foa_title        object\n",
       "rating          float64\n",
       "games           float64\n",
       "k               float64\n",
       "rapid_rating    float64\n",
       "rapid_games     float64\n",
       "rapid_k         float64\n",
       "blitz_rating    float64\n",
       "blitz_games     float64\n",
       "blitz_k         float64\n",
       "birthday        float64\n",
       "flag             object\n",
       "dtype: object"
      ]
     },
     "execution_count": 5,
     "metadata": {},
     "output_type": "execute_result"
    }
   ],
   "source": [
    "df.dtypes"
   ]
  },
  {
   "cell_type": "markdown",
   "id": "0de226a9",
   "metadata": {},
   "source": [
    "*The dataset has data on ~100,000 players from India with details on sex, titles, birthdays and ratings for different formats. First, analysing the distribution by sex*"
   ]
  },
  {
   "cell_type": "code",
   "execution_count": 6,
   "id": "cac0502a",
   "metadata": {},
   "outputs": [
    {
     "data": {
      "text/plain": [
       "M    91028\n",
       "F    17603\n",
       "Name: sex, dtype: int64"
      ]
     },
     "execution_count": 6,
     "metadata": {},
     "output_type": "execute_result"
    }
   ],
   "source": [
    "df.sex.value_counts()"
   ]
  },
  {
   "cell_type": "markdown",
   "id": "34398f5e",
   "metadata": {},
   "source": [
    "*Next, analysing the distribution of titled players by sex. These are the 4 open title in the order of importance--Grandmaster(GM), International Master(IM), Fide Master(FM) and Candidate Master. There are also [corresponding women's titles](https://www.ichess.net/blog/history-women-chess-titles/).\"*"
   ]
  },
  {
   "cell_type": "code",
   "execution_count": 7,
   "id": "fcea4b43",
   "metadata": {},
   "outputs": [
    {
     "data": {
      "text/plain": [
       "sex  title\n",
       "F    WFM       44\n",
       "     WIM       43\n",
       "     WCM       26\n",
       "     WGM       13\n",
       "     IM         8\n",
       "     GM         2\n",
       "     CM         1\n",
       "M    IM       123\n",
       "     FM        94\n",
       "     GM        71\n",
       "     CM        60\n",
       "Name: title, dtype: int64"
      ]
     },
     "execution_count": 7,
     "metadata": {},
     "output_type": "execute_result"
    }
   ],
   "source": [
    "df.groupby(by=\"sex\").title.value_counts()"
   ]
  },
  {
   "cell_type": "markdown",
   "id": "e60fc869",
   "metadata": {},
   "source": [
    "*Then, I am creating a new data frame with only data from Grandmasters and Women Grand Masters. FIDE has timeseries data on ratings of the player but the data download does not have it. I want to get it for GM and WGM players using this [API](https://www.ichess.net/blog/history-women-chess-titles/)*"
   ]
  },
  {
   "cell_type": "code",
   "execution_count": 8,
   "id": "ada5a5d6",
   "metadata": {},
   "outputs": [],
   "source": [
    "df_gm=df.query(\"(title=='GM') or (title=='WGM')\")"
   ]
  },
  {
   "cell_type": "markdown",
   "id": "457e8e75",
   "metadata": {},
   "source": [
    "*Now creating a list with only the FIDE ids that are need to request the timeseries data. And then making links out of the IDs to make requests for the data*"
   ]
  },
  {
   "cell_type": "code",
   "execution_count": 9,
   "id": "1ff3c5fe",
   "metadata": {},
   "outputs": [],
   "source": [
    "fideidlist=df_gm.fideid.to_list()"
   ]
  },
  {
   "cell_type": "code",
   "execution_count": 10,
   "id": "adf9bce3",
   "metadata": {},
   "outputs": [],
   "source": [
    "fidelink=[]\n",
    "\n",
    "for id in fideidlist:\n",
    "    fidelink.append(\"https://fide-ratings-scraper.herokuapp.com//player/\" + str(id)+ \"/info?include_history=true\")"
   ]
  },
  {
   "cell_type": "markdown",
   "id": "bb762f86",
   "metadata": {},
   "source": [
    "*Next, I will import requests library. And then requesting for data on history of the players using a for loop. Converting these cells to markdown to avoid them running again and again*"
   ]
  },
  {
   "cell_type": "markdown",
   "id": "54fbebef",
   "metadata": {},
   "source": [
    "import requests"
   ]
  },
  {
   "cell_type": "markdown",
   "id": "b7526222",
   "metadata": {},
   "source": [
    "name=[]\n",
    "for item in fidelink:\n",
    "    url=link\n",
    "    response=requests.get(url)\n",
    "    data=response.json()\n",
    "    \n",
    "    for rating in data['history']:\n",
    "        Rating={}\n",
    "        Rating['Name']=data['name']\n",
    "        Rating['date']=rating['date']\n",
    "        Rating['rating']=rating['rating']\n",
    "        \n",
    "    name.append(Rating)\n",
    "            "
   ]
  },
  {
   "cell_type": "markdown",
   "id": "d90caa8d",
   "metadata": {},
   "source": [
    "*Saving the new list of dictionaries into a dataframe and then a CSV*"
   ]
  },
  {
   "cell_type": "markdown",
   "id": "983773ee",
   "metadata": {},
   "source": [
    "df_history=pd.DataFrame(name)"
   ]
  },
  {
   "cell_type": "markdown",
   "id": "facd6a39",
   "metadata": {},
   "source": [
    "df_history.to_csv(\"Time Series.csv\", index=False)"
   ]
  },
  {
   "cell_type": "markdown",
   "id": "558558c2",
   "metadata": {},
   "source": [
    "*Now, opening the new CSV file*"
   ]
  },
  {
   "cell_type": "code",
   "execution_count": 11,
   "id": "8e289f4f",
   "metadata": {},
   "outputs": [],
   "source": [
    "df_timeseries=pd.read_csv(\"Time Series.csv\")"
   ]
  },
  {
   "cell_type": "code",
   "execution_count": 17,
   "id": "e8474d40",
   "metadata": {},
   "outputs": [
    {
     "data": {
      "text/plain": [
       "<AxesSubplot:>"
      ]
     },
     "execution_count": 17,
     "metadata": {},
     "output_type": "execute_result"
    },
    {
     "data": {
      "image/png": "[encoded data removed]",
      "text/plain": [
       "<Figure size 432x288 with 1 Axes>"
      ]
     },
     "metadata": {
      "needs_background": "light"
     },
     "output_type": "display_data"
    }
   ],
   "source": [
    "df_timeseries.standard.hist()"
   ]
  },
  {
   "cell_type": "markdown",
   "id": "1b6c9c8a",
   "metadata": {},
   "source": [
    "*I finished my analysis on python here. On google sheets, I created a transposed version of the Time Series data and created another sheet with only peak ratings, the month the rating was achieved and how long it took. I used these sheets to make the final charts*"
   ]
  }
 ],
 "metadata": {
  "kernelspec": {
   "display_name": "Python 3 (ipykernel)",
   "language": "python",
   "name": "python3"
  },
  "language_info": {
   "codemirror_mode": {
    "name": "ipython",
    "version": 3
   },
   "file_extension": ".py",
   "mimetype": "text/x-python",
   "name": "python",
   "nbconvert_exporter": "python",
   "pygments_lexer": "ipython3",
   "version": "3.10.3"
  }
 },
 "nbformat": 4,
 "nbformat_minor": 5
}
